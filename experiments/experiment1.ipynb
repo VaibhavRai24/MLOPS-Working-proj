{
 "cells": [
  {
   "cell_type": "code",
   "execution_count": 6,
   "metadata": {},
   "outputs": [],
   "source": [
    "import mlflow\n",
    "import pandas as pd\n",
    "import mlflow.sklearn\n",
    "from sklearn.feature_extraction.text import CountVectorizer\n",
    "from sklearn.model_selection import train_test_split\n",
    "from sklearn.linear_model import LogisticRegression\n",
    "from sklearn.metrics import accuracy_score, precision_score, recall_score, f1_score\n",
    "import pandas as pd\n",
    "import re\n",
    "import string\n",
    "from nltk.corpus import stopwords\n",
    "from nltk.stem import WordNetLemmatizer\n",
    "import numpy as np\n",
    "from nltk.tokenize import word_tokenize"
   ]
  },
  {
   "cell_type": "code",
   "execution_count": 14,
   "metadata": {},
   "outputs": [
    {
     "name": "stderr",
     "output_type": "stream",
     "text": [
      "[nltk_data] Downloading package wordnet to\n",
      "[nltk_data]     C:\\Users\\VAIBHAVRAI\\AppData\\Roaming\\nltk_data...\n"
     ]
    },
    {
     "data": {
      "text/plain": [
       "True"
      ]
     },
     "execution_count": 14,
     "metadata": {},
     "output_type": "execute_result"
    }
   ],
   "source": [
    "import nltk\n",
    "nltk.download('wordnet')\n"
   ]
  },
  {
   "cell_type": "code",
   "execution_count": 18,
   "metadata": {},
   "outputs": [
    {
     "data": {
      "text/html": [
       "<div>\n",
       "<style scoped>\n",
       "    .dataframe tbody tr th:only-of-type {\n",
       "        vertical-align: middle;\n",
       "    }\n",
       "\n",
       "    .dataframe tbody tr th {\n",
       "        vertical-align: top;\n",
       "    }\n",
       "\n",
       "    .dataframe thead th {\n",
       "        text-align: right;\n",
       "    }\n",
       "</style>\n",
       "<table border=\"1\" class=\"dataframe\">\n",
       "  <thead>\n",
       "    <tr style=\"text-align: right;\">\n",
       "      <th></th>\n",
       "      <th>review</th>\n",
       "      <th>sentiment</th>\n",
       "    </tr>\n",
       "  </thead>\n",
       "  <tbody>\n",
       "    <tr>\n",
       "      <th>786</th>\n",
       "      <td>Oh boy! Oh boy! On the cover of worn out VHS h...</td>\n",
       "      <td>negative</td>\n",
       "    </tr>\n",
       "    <tr>\n",
       "      <th>294</th>\n",
       "      <td>If I had never seen the first Road House, then...</td>\n",
       "      <td>negative</td>\n",
       "    </tr>\n",
       "    <tr>\n",
       "      <th>424</th>\n",
       "      <td>I thought this movie was pretty good. Some par...</td>\n",
       "      <td>positive</td>\n",
       "    </tr>\n",
       "    <tr>\n",
       "      <th>62</th>\n",
       "      <td>This movie is about a man who likes to blow hi...</td>\n",
       "      <td>negative</td>\n",
       "    </tr>\n",
       "    <tr>\n",
       "      <th>805</th>\n",
       "      <td>Sarafina was a fun movie, and some of the song...</td>\n",
       "      <td>positive</td>\n",
       "    </tr>\n",
       "  </tbody>\n",
       "</table>\n",
       "</div>"
      ],
      "text/plain": [
       "                                                review sentiment\n",
       "786  Oh boy! Oh boy! On the cover of worn out VHS h...  negative\n",
       "294  If I had never seen the first Road House, then...  negative\n",
       "424  I thought this movie was pretty good. Some par...  positive\n",
       "62   This movie is about a man who likes to blow hi...  negative\n",
       "805  Sarafina was a fun movie, and some of the song...  positive"
      ]
     },
     "execution_count": 18,
     "metadata": {},
     "output_type": "execute_result"
    }
   ],
   "source": [
    "df = pd.read_csv(r\"C:\\Users\\VAIBHAVRAI\\OneDrive\\Desktop\\mlops-main\\MLOPS-Working-proj\\Mlops-project-Main\\IMDB.csv\")\n",
    "df = df.sample(500)\n",
    "df.to_csv(\"real_data.csv\", index= False)\n",
    "df.head()"
   ]
  },
  {
   "cell_type": "code",
   "execution_count": 7,
   "metadata": {},
   "outputs": [],
   "source": [
    "def lemmitization(text):\n",
    "    \"\"\"\n",
    "    This function is used to perform lemmitization on the text data\n",
    "    \"\"\"\n",
    "    lemitizer = WordNetLemmatizer()\n",
    "    words = word_tokenize(text)\n",
    "    words = [lemitizer.lemmatize(word) for word in words]\n",
    "    return \" \".join(words)\n",
    "    "
   ]
  },
  {
   "cell_type": "code",
   "execution_count": 8,
   "metadata": {},
   "outputs": [],
   "source": [
    "def remove_the_stop_words(text):\n",
    "    \"\"\" \n",
    "    This function is used to remove the stop words from the text data\n",
    "    \"\"\"\n",
    "    words = word_tokenize(text)\n",
    "    words = [word for word in words if word not in stopwords.words(\"english\")]\n",
    "    return \" \".join(words)"
   ]
  },
  {
   "cell_type": "code",
   "execution_count": 10,
   "metadata": {},
   "outputs": [],
   "source": [
    "def removing_the_numerical_values(text):\n",
    "    \"\"\" \n",
    "    This function is used to remove the numerical values from the text data\n",
    "    \n",
    "    \"\"\"\n",
    "    words = word_tokenize(text)\n",
    "    words = [word for word in words if not word.isnumeric()]\n",
    "    return \" \".join(words)"
   ]
  },
  {
   "cell_type": "code",
   "execution_count": 9,
   "metadata": {},
   "outputs": [],
   "source": [
    "def lower_case(text):\n",
    "    \"\"\"\n",
    "    This function is used to convert the text data into lower case\n",
    "    \"\"\"\n",
    "    words = word_tokenize(text)\n",
    "    words = [word.lower() for word in words]\n",
    "    return \" \".join(words)"
   ]
  },
  {
   "cell_type": "code",
   "execution_count": 11,
   "metadata": {},
   "outputs": [],
   "source": [
    "def removing_the_urls(text):\n",
    "    \"\"\"\n",
    "    This function is used to remove the urls from the text data\n",
    "    \"\"\"\n",
    "    return re.sub(r\"http\\S+|www\\S+|https\\S+\", \"\", text, flags=re.MULTILINE)"
   ]
  },
  {
   "cell_type": "code",
   "execution_count": 12,
   "metadata": {},
   "outputs": [],
   "source": [
    "def normalize_text_of_the_dataframe(text):\n",
    "    \"\"\"\n",
    "    This function is used to normalize the text data of the dataframe basically the review section using the above functions \n",
    "    \"\"\"\n",
    "    try:\n",
    "        df['review'] = df['review'].apply(lower_case)\n",
    "        df['review'] = df['review'].apply(removing_the_urls)\n",
    "        df['review'] = df['review'].apply(removing_the_numerical_values)\n",
    "        df['review'] = df['review'].apply(remove_the_stop_words)\n",
    "        df['review'] = df['review'].apply(lemmitization)\n",
    "        return df\n",
    "    except Exception as e:\n",
    "        print(f\"Error during the normalization of the text data {e}\")\n",
    "        raise "
   ]
  },
  {
   "cell_type": "code",
   "execution_count": 15,
   "metadata": {},
   "outputs": [
    {
     "data": {
      "text/html": [
       "<div>\n",
       "<style scoped>\n",
       "    .dataframe tbody tr th:only-of-type {\n",
       "        vertical-align: middle;\n",
       "    }\n",
       "\n",
       "    .dataframe tbody tr th {\n",
       "        vertical-align: top;\n",
       "    }\n",
       "\n",
       "    .dataframe thead th {\n",
       "        text-align: right;\n",
       "    }\n",
       "</style>\n",
       "<table border=\"1\" class=\"dataframe\">\n",
       "  <thead>\n",
       "    <tr style=\"text-align: right;\">\n",
       "      <th></th>\n",
       "      <th>review</th>\n",
       "      <th>sentiment</th>\n",
       "    </tr>\n",
       "  </thead>\n",
       "  <tbody>\n",
       "    <tr>\n",
       "      <th>41</th>\n",
       "      <td>piece crap might acclaimed year ago , one raci...</td>\n",
       "      <td>negative</td>\n",
       "    </tr>\n",
       "    <tr>\n",
       "      <th>976</th>\n",
       "      <td>early film flaw -- predictable plot overlong s...</td>\n",
       "      <td>positive</td>\n",
       "    </tr>\n",
       "    <tr>\n",
       "      <th>965</th>\n",
       "      <td>movie true reflection australian resourcefulne...</td>\n",
       "      <td>positive</td>\n",
       "    </tr>\n",
       "    <tr>\n",
       "      <th>370</th>\n",
       "      <td>men , love police movie filled action , shooti...</td>\n",
       "      <td>negative</td>\n",
       "    </tr>\n",
       "    <tr>\n",
       "      <th>939</th>\n",
       "      <td>plenty comment already posted saying exactly f...</td>\n",
       "      <td>negative</td>\n",
       "    </tr>\n",
       "  </tbody>\n",
       "</table>\n",
       "</div>"
      ],
      "text/plain": [
       "                                                review sentiment\n",
       "41   piece crap might acclaimed year ago , one raci...  negative\n",
       "976  early film flaw -- predictable plot overlong s...  positive\n",
       "965  movie true reflection australian resourcefulne...  positive\n",
       "370  men , love police movie filled action , shooti...  negative\n",
       "939  plenty comment already posted saying exactly f...  negative"
      ]
     },
     "execution_count": 15,
     "metadata": {},
     "output_type": "execute_result"
    }
   ],
   "source": [
    "df  = normalize_text_of_the_dataframe(df)\n",
    "df.head()"
   ]
  },
  {
   "cell_type": "code",
   "execution_count": 19,
   "metadata": {},
   "outputs": [
    {
     "data": {
      "text/plain": [
       "sentiment\n",
       "negative    267\n",
       "positive    233\n",
       "Name: count, dtype: int64"
      ]
     },
     "execution_count": 19,
     "metadata": {},
     "output_type": "execute_result"
    }
   ],
   "source": [
    "df['sentiment'].value_counts()\n"
   ]
  },
  {
   "cell_type": "code",
   "execution_count": 22,
   "metadata": {},
   "outputs": [],
   "source": [
    "x = df['sentiment'].isin(['positive', 'negative'])\n",
    "df = df[x]"
   ]
  },
  {
   "cell_type": "code",
   "execution_count": 23,
   "metadata": {},
   "outputs": [
    {
     "data": {
      "text/html": [
       "<div>\n",
       "<style scoped>\n",
       "    .dataframe tbody tr th:only-of-type {\n",
       "        vertical-align: middle;\n",
       "    }\n",
       "\n",
       "    .dataframe tbody tr th {\n",
       "        vertical-align: top;\n",
       "    }\n",
       "\n",
       "    .dataframe thead th {\n",
       "        text-align: right;\n",
       "    }\n",
       "</style>\n",
       "<table border=\"1\" class=\"dataframe\">\n",
       "  <thead>\n",
       "    <tr style=\"text-align: right;\">\n",
       "      <th></th>\n",
       "      <th>review</th>\n",
       "      <th>sentiment</th>\n",
       "    </tr>\n",
       "  </thead>\n",
       "  <tbody>\n",
       "    <tr>\n",
       "      <th>786</th>\n",
       "      <td>Oh boy! Oh boy! On the cover of worn out VHS h...</td>\n",
       "      <td>0</td>\n",
       "    </tr>\n",
       "    <tr>\n",
       "      <th>294</th>\n",
       "      <td>If I had never seen the first Road House, then...</td>\n",
       "      <td>0</td>\n",
       "    </tr>\n",
       "    <tr>\n",
       "      <th>424</th>\n",
       "      <td>I thought this movie was pretty good. Some par...</td>\n",
       "      <td>1</td>\n",
       "    </tr>\n",
       "    <tr>\n",
       "      <th>62</th>\n",
       "      <td>This movie is about a man who likes to blow hi...</td>\n",
       "      <td>0</td>\n",
       "    </tr>\n",
       "    <tr>\n",
       "      <th>805</th>\n",
       "      <td>Sarafina was a fun movie, and some of the song...</td>\n",
       "      <td>1</td>\n",
       "    </tr>\n",
       "  </tbody>\n",
       "</table>\n",
       "</div>"
      ],
      "text/plain": [
       "                                                review  sentiment\n",
       "786  Oh boy! Oh boy! On the cover of worn out VHS h...          0\n",
       "294  If I had never seen the first Road House, then...          0\n",
       "424  I thought this movie was pretty good. Some par...          1\n",
       "62   This movie is about a man who likes to blow hi...          0\n",
       "805  Sarafina was a fun movie, and some of the song...          1"
      ]
     },
     "execution_count": 23,
     "metadata": {},
     "output_type": "execute_result"
    }
   ],
   "source": [
    "df['sentiment'] = df['sentiment'].map({\"positive\": 1, \"negative\": 0})\n",
    "df.head()"
   ]
  },
  {
   "cell_type": "code",
   "execution_count": 24,
   "metadata": {},
   "outputs": [
    {
     "data": {
      "text/plain": [
       "review       0\n",
       "sentiment    0\n",
       "dtype: int64"
      ]
     },
     "execution_count": 24,
     "metadata": {},
     "output_type": "execute_result"
    }
   ],
   "source": [
    "df.isnull().sum()"
   ]
  },
  {
   "cell_type": "code",
   "execution_count": null,
   "metadata": {},
   "outputs": [],
   "source": [
    "vectorizers = CountVectorizer(max_features= 200)\n",
    "X = vectorizers.fit_transform(df['review'])\n",
    "y = df['sentiment']"
   ]
  },
  {
   "cell_type": "code",
   "execution_count": 26,
   "metadata": {},
   "outputs": [],
   "source": [
    "X_train, X_test, y_train, y_test = train_test_split(X, y, test_size=0.25, random_state=42)"
   ]
  },
  {
   "cell_type": "code",
   "execution_count": 28,
   "metadata": {},
   "outputs": [
    {
     "data": {
      "text/html": [
       "<pre style=\"white-space:pre;overflow-x:auto;line-height:normal;font-family:Menlo,'DejaVu Sans Mono',consolas,'Courier New',monospace\">Accessing as VaibhavRai24\n",
       "</pre>\n"
      ],
      "text/plain": [
       "Accessing as VaibhavRai24\n"
      ]
     },
     "metadata": {},
     "output_type": "display_data"
    },
    {
     "data": {
      "text/html": [
       "<pre style=\"white-space:pre;overflow-x:auto;line-height:normal;font-family:Menlo,'DejaVu Sans Mono',consolas,'Courier New',monospace\">Initialized MLflow to track repo <span style=\"color: #008000; text-decoration-color: #008000\">\"VaibhavRai24/MLOPS-Working-proj\"</span>\n",
       "</pre>\n"
      ],
      "text/plain": [
       "Initialized MLflow to track repo \u001b[32m\"VaibhavRai24/MLOPS-Working-proj\"\u001b[0m\n"
      ]
     },
     "metadata": {},
     "output_type": "display_data"
    },
    {
     "data": {
      "text/html": [
       "<pre style=\"white-space:pre;overflow-x:auto;line-height:normal;font-family:Menlo,'DejaVu Sans Mono',consolas,'Courier New',monospace\">Repository VaibhavRai24/MLOPS-Working-proj initialized!\n",
       "</pre>\n"
      ],
      "text/plain": [
       "Repository VaibhavRai24/MLOPS-Working-proj initialized!\n"
      ]
     },
     "metadata": {},
     "output_type": "display_data"
    },
    {
     "name": "stderr",
     "output_type": "stream",
     "text": [
      "2025/03/01 19:27:08 INFO mlflow.tracking.fluent: Experiment with name 'Sentimental Analysis on the IMDB DATASET' does not exist. Creating a new experiment.\n"
     ]
    },
    {
     "data": {
      "text/plain": [
       "<Experiment: artifact_location='mlflow-artifacts:/12972dfc0cb8466cb06ef7b1cec3d3ff', creation_time=1740837420214, experiment_id='0', last_update_time=1740837420214, lifecycle_stage='active', name='Sentimental Analysis on the IMDB DATASET', tags={}>"
      ]
     },
     "execution_count": 28,
     "metadata": {},
     "output_type": "execute_result"
    }
   ],
   "source": [
    "import dagshub\n",
    "mlflow.set_tracking_uri('https://dagshub.com/VaibhavRai24/MLOPS-Working-proj.mlflow')\n",
    "dagshub.init(repo_owner= 'VaibhavRai24', repo_name= 'MLOPS-Working-proj', mlflow= True)\n",
    "mlflow.set_experiment(\"Sentimental Analysis on the IMDB DATASET\")\n"
   ]
  },
  {
   "cell_type": "code",
   "execution_count": 29,
   "metadata": {},
   "outputs": [],
   "source": [
    "import mlflow\n",
    "import logging\n",
    "import time\n",
    "import os\n",
    "from sklearn.metrics import accuracy_score, precision_score, recall_score, f1_score\n",
    "from sklearn.linear_model import LogisticRegression"
   ]
  },
  {
   "cell_type": "code",
   "execution_count": 30,
   "metadata": {},
   "outputs": [
    {
     "name": "stderr",
     "output_type": "stream",
     "text": [
      "2025-03-01 19:43:26,577 - INFO - Starting the MLFLOW process and training the model\n",
      "2025-03-01 19:43:27,603 - INFO - MLFLOW process has been started\n",
      "2025-03-01 19:43:27,605 - INFO - Logging the praameters\n",
      "2025-03-01 19:43:28,737 - INFO - Training the model using the Logistic Regression\n",
      "2025-03-01 19:43:28,792 - INFO - Model has been trained successfully\n",
      "2025-03-01 19:43:29,187 - INFO - Going to make predictions on the test data\n",
      "2025-03-01 19:43:29,189 - INFO - Calculating the metrics of the model\n",
      "2025-03-01 19:43:29,201 - INFO - Logging the metrics of the model\n",
      "2025-03-01 19:43:30,692 - INFO - MODEL PREDCITIONS HAVE BEEN MADE SUCCESSFULLY\n",
      "2025-03-01 19:43:30,693 - INFO - MLFLOW PROCESS HAS BEEN COMPLETED\n",
      "2025/03/01 19:43:38 WARNING mlflow.models.model: Model logged without a signature and input example. Please set `input_example` parameter when logging the model to auto infer the model signature.\n",
      "2025-03-01 19:43:41,854 - INFO - Total time taken to complete the process is 14.250206232070923\n",
      "2025-03-01 19:43:41,855 - INFO - Accuracy: 0.656\n",
      "2025-03-01 19:43:41,855 - INFO - Precision: 0.7058823529411765\n",
      "2025-03-01 19:43:41,856 - INFO - Recall: 0.5625\n",
      "2025-03-01 19:43:41,857 - INFO - F1 Score: 0.6260869565217392\n"
     ]
    },
    {
     "name": "stdout",
     "output_type": "stream",
     "text": [
      "🏃 View run lyrical-owl-476 at: https://dagshub.com/VaibhavRai24/MLOPS-Working-proj.mlflow/#/experiments/0/runs/fa489ff891cc4ed28a50c693a9ad7b3b\n",
      "🧪 View experiment at: https://dagshub.com/VaibhavRai24/MLOPS-Working-proj.mlflow/#/experiments/0\n"
     ]
    }
   ],
   "source": [
    "logging.basicConfig(level=logging.INFO, format= \"%(asctime)s - %(levelname)s - %(message)s\")\n",
    "logging.info(\"Starting the MLFLOW process and training the model\")\n",
    "\n",
    "with mlflow.start_run():\n",
    "    start_time = time.time()\n",
    "    logging.info(\"MLFLOW process has been started\")\n",
    "\n",
    "    try:\n",
    "        logging.info(\"Logging the praameters\")\n",
    "        mlflow.log_param(\"vectorizers\", \"Bag of words\")\n",
    "        mlflow.log_param(\"max_features\", 200)\n",
    "        mlflow.log_param(\"test_size\", 0.25)\n",
    "        \n",
    "        \n",
    "        logging.info(\"Training the model using the Logistic Regression\")\n",
    "        model = LogisticRegression(max_iter= 1000)\n",
    "        model.fit(X_train, y_train)\n",
    "        logging.info(\"Model has been trained successfully\")\n",
    "        \n",
    "        mlflow.log_param(\"model\", \"Logistic Regression\")\n",
    "        logging.info(\"Going to make predictions on the test data\")\n",
    "        y_pred = model.predict(X_test)\n",
    "        \n",
    "        logging.info(\"Calculating the metrics of the model\")\n",
    "        accuracy = accuracy_score(y_test, y_pred)\n",
    "        precision = precision_score(y_test, y_pred)\n",
    "        recall = recall_score(y_test, y_pred)\n",
    "        f1 = f1_score(y_test, y_pred)\n",
    "        \n",
    "        logging.info(\"Logging the metrics of the model\")\n",
    "        mlflow.log_metric(\"accuracy\", accuracy) \n",
    "        mlflow.log_metric(\"precision\", precision)\n",
    "        mlflow.log_metric(\"recall\", recall)\n",
    "        mlflow.log_metric(\"f1\", f1)\n",
    "        \n",
    "        logging.info(\"MODEL PREDCITIONS HAVE BEEN MADE SUCCESSFULLY\")\n",
    "        logging.info(\"MLFLOW PROCESS HAS BEEN COMPLETED\")\n",
    "        \n",
    "        mlflow.sklearn.log_model(model, \"model\")\n",
    "        end_time = time.time()\n",
    "        logging.info(f\"Total time taken to complete the process is {end_time - start_time}\")\n",
    "        \n",
    "        logging.info(f\"Accuracy: {accuracy}\")\n",
    "        logging.info(f\"Precision: {precision}\")\n",
    "        logging.info(f\"Recall: {recall}\")\n",
    "        logging.info(f\"F1 Score: {f1}\")\n",
    "        \n",
    "        \n",
    "    except Exception as e:\n",
    "        logging.error(f\"Error during the MLFLOW process {e}\", exc_info= True)\n",
    "        raise"
   ]
  }
 ],
 "metadata": {
  "kernelspec": {
   "display_name": "Python (atlas)",
   "language": "python",
   "name": "atlas"
  },
  "language_info": {
   "codemirror_mode": {
    "name": "ipython",
    "version": 3
   },
   "file_extension": ".py",
   "mimetype": "text/x-python",
   "name": "python",
   "nbconvert_exporter": "python",
   "pygments_lexer": "ipython3",
   "version": "3.11.2"
  }
 },
 "nbformat": 4,
 "nbformat_minor": 2
}
